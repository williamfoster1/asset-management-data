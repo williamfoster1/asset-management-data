{
 "cells": [
  {
   "cell_type": "markdown",
   "id": "d08123d9-43f1-4b0c-8ade-259fca5b36b7",
   "metadata": {},
   "source": [
    "# ARK ETF Data Processing"
   ]
  },
  {
   "cell_type": "code",
   "execution_count": 19,
   "id": "de9f5813-27a6-49a4-9335-c8822af17458",
   "metadata": {
    "tags": []
   },
   "outputs": [],
   "source": [
    "import numpy as np\n",
    "import pandas as pd\n",
    "import matplotlib.pyplot as plt\n",
    "import seaborn as sns\n",
    "\n",
    "pd.set_option('display.max_columns', 200)\n",
    "pd.options.display.float_format = '{:.6f}'.format"
   ]
  },
  {
   "cell_type": "code",
   "execution_count": 142,
   "id": "8575d921-a614-47f0-9c2d-80e4cfcd9757",
   "metadata": {
    "tags": []
   },
   "outputs": [],
   "source": [
    "def get_returns(ticker):\n",
    "    \"\"\"\n",
    "    Read data for a specified ticker, compute returns, rename columns\n",
    "    Returns DataFrame containing returns\n",
    "    \"\"\"\n",
    "    data = pd.read_csv('{}.csv'.format(ticker), header=0, index_col=0, parse_dates=True, na_values=-99.99)\n",
    "    data = data[['Adj Close']]\n",
    "    data.index = pd.to_datetime(data.index, format=\"%Y%m%d\")\n",
    "    data[ticker] = data.pct_change()\n",
    "    data.dropna(inplace=True)\n",
    "    return data[ticker]"
   ]
  },
  {
   "cell_type": "code",
   "execution_count": 143,
   "id": "a3507750-1f8a-4283-8914-dfe2773839c3",
   "metadata": {
    "tags": []
   },
   "outputs": [],
   "source": [
    "def get_adj_close(ticker):\n",
    "    \"\"\"\n",
    "    Read price data for a specified ticker, gets adj close, rename columns\n",
    "    Returns DataFrame containing adjusted close price\n",
    "    \"\"\"\n",
    "    data = pd.read_csv('{}.csv'.format(ticker), header=0, index_col=0, parse_dates=True, na_values=-99.99)\n",
    "    data = data[['Adj Close']]\n",
    "    data.index = pd.to_datetime(data.index, format=\"%Y%m%d\")\n",
    "    data.dropna(inplace=True)\n",
    "    data.rename(columns={'Adj Close':'{}'.format(ticker)}, inplace=True) \n",
    "    return data[ticker]"
   ]
  },
  {
   "cell_type": "code",
   "execution_count": 144,
   "id": "78ef3865-a31b-499d-b04e-f3621121d5b6",
   "metadata": {
    "tags": []
   },
   "outputs": [],
   "source": [
    "def get_volume(ticker):\n",
    "    \"\"\"\n",
    "    Read price data for a specified ticker, gets volume, rename columns\n",
    "    Returns DataFrame containing trading volume\n",
    "    \"\"\"\n",
    "    data = pd.read_csv('{}.csv'.format(ticker), header=0, index_col=0, parse_dates=True, na_values=-99.99)\n",
    "    data = data[['Volume']]\n",
    "    data.index = pd.to_datetime(data.index, format=\"%Y%m%d\")\n",
    "    data.dropna(inplace=True)\n",
    "    data.rename(columns={'Volume':'{}'.format(ticker)}, inplace=True) \n",
    "    return data[ticker]"
   ]
  },
  {
   "cell_type": "markdown",
   "id": "8cc07f19-c22f-4aa9-a8e5-0764ab05b2b6",
   "metadata": {},
   "source": [
    "### We will process data from Ark Invest's ETF\n",
    "- ARKF ARK Fintech ETF\n",
    "- ARKK ARK Innovation ETF\n",
    "- ARKQ ARK Auto Tech & Robotics ETF\n",
    "- ARKW ARK Next Generation Internet ETF\n",
    "\n",
    "The next section will process the source data into daily returns, daily prices and daily trade volumes data sets"
   ]
  },
  {
   "cell_type": "code",
   "execution_count": 115,
   "id": "8f7090e1-53cf-4d54-a10e-217ed30f60f0",
   "metadata": {
    "tags": []
   },
   "outputs": [],
   "source": [
    "tickers = ['ARKF','ARKK','ARKQ','ARKW']"
   ]
  },
  {
   "cell_type": "code",
   "execution_count": 127,
   "id": "6e7d6c78-2562-4623-bdf7-3cc7a8f30c02",
   "metadata": {
    "tags": []
   },
   "outputs": [],
   "source": [
    "returns = pd.DataFrame({ticker:get_returns(ticker) for ticker in tickers})"
   ]
  },
  {
   "cell_type": "code",
   "execution_count": 128,
   "id": "2a4ffb18-c667-4fd5-b75b-59bc6a97c1b0",
   "metadata": {
    "tags": []
   },
   "outputs": [
    {
     "data": {
      "text/html": [
       "<div>\n",
       "<style scoped>\n",
       "    .dataframe tbody tr th:only-of-type {\n",
       "        vertical-align: middle;\n",
       "    }\n",
       "\n",
       "    .dataframe tbody tr th {\n",
       "        vertical-align: top;\n",
       "    }\n",
       "\n",
       "    .dataframe thead th {\n",
       "        text-align: right;\n",
       "    }\n",
       "</style>\n",
       "<table border=\"1\" class=\"dataframe\">\n",
       "  <thead>\n",
       "    <tr style=\"text-align: right;\">\n",
       "      <th></th>\n",
       "      <th>ARKF</th>\n",
       "      <th>ARKK</th>\n",
       "      <th>ARKQ</th>\n",
       "      <th>ARKW</th>\n",
       "    </tr>\n",
       "    <tr>\n",
       "      <th>Date</th>\n",
       "      <th></th>\n",
       "      <th></th>\n",
       "      <th></th>\n",
       "      <th></th>\n",
       "    </tr>\n",
       "  </thead>\n",
       "  <tbody>\n",
       "    <tr>\n",
       "      <th>2020-01-03</th>\n",
       "      <td>-0.010989</td>\n",
       "      <td>-0.007327</td>\n",
       "      <td>-0.002507</td>\n",
       "      <td>-0.004417</td>\n",
       "    </tr>\n",
       "    <tr>\n",
       "      <th>2020-01-06</th>\n",
       "      <td>0.006584</td>\n",
       "      <td>0.007780</td>\n",
       "      <td>0.001217</td>\n",
       "      <td>0.011433</td>\n",
       "    </tr>\n",
       "    <tr>\n",
       "      <th>2020-01-07</th>\n",
       "      <td>0.008994</td>\n",
       "      <td>0.012272</td>\n",
       "      <td>0.012341</td>\n",
       "      <td>0.013329</td>\n",
       "    </tr>\n",
       "    <tr>\n",
       "      <th>2020-01-08</th>\n",
       "      <td>0.008104</td>\n",
       "      <td>0.022487</td>\n",
       "      <td>0.014617</td>\n",
       "      <td>0.015484</td>\n",
       "    </tr>\n",
       "    <tr>\n",
       "      <th>2020-01-09</th>\n",
       "      <td>0.009244</td>\n",
       "      <td>0.001147</td>\n",
       "      <td>0.001029</td>\n",
       "      <td>0.004755</td>\n",
       "    </tr>\n",
       "  </tbody>\n",
       "</table>\n",
       "</div>"
      ],
      "text/plain": [
       "                ARKF      ARKK      ARKQ      ARKW\n",
       "Date                                              \n",
       "2020-01-03 -0.010989 -0.007327 -0.002507 -0.004417\n",
       "2020-01-06  0.006584  0.007780  0.001217  0.011433\n",
       "2020-01-07  0.008994  0.012272  0.012341  0.013329\n",
       "2020-01-08  0.008104  0.022487  0.014617  0.015484\n",
       "2020-01-09  0.009244  0.001147  0.001029  0.004755"
      ]
     },
     "execution_count": 128,
     "metadata": {},
     "output_type": "execute_result"
    }
   ],
   "source": [
    "returns.head()"
   ]
  },
  {
   "cell_type": "code",
   "execution_count": 129,
   "id": "fc2230c7-0830-4b80-b042-40e0b2a50348",
   "metadata": {
    "tags": []
   },
   "outputs": [],
   "source": [
    "prices = pd.DataFrame(data={ticker:get_adj_close(ticker) for ticker in tickers})"
   ]
  },
  {
   "cell_type": "code",
   "execution_count": 130,
   "id": "f8fbad84-028b-45d3-9f15-07528a0f5918",
   "metadata": {
    "tags": []
   },
   "outputs": [
    {
     "data": {
      "text/html": [
       "<div>\n",
       "<style scoped>\n",
       "    .dataframe tbody tr th:only-of-type {\n",
       "        vertical-align: middle;\n",
       "    }\n",
       "\n",
       "    .dataframe tbody tr th {\n",
       "        vertical-align: top;\n",
       "    }\n",
       "\n",
       "    .dataframe thead th {\n",
       "        text-align: right;\n",
       "    }\n",
       "</style>\n",
       "<table border=\"1\" class=\"dataframe\">\n",
       "  <thead>\n",
       "    <tr style=\"text-align: right;\">\n",
       "      <th></th>\n",
       "      <th>ARKF</th>\n",
       "      <th>ARKK</th>\n",
       "      <th>ARKQ</th>\n",
       "      <th>ARKW</th>\n",
       "    </tr>\n",
       "    <tr>\n",
       "      <th>Date</th>\n",
       "      <th></th>\n",
       "      <th></th>\n",
       "      <th></th>\n",
       "      <th></th>\n",
       "    </tr>\n",
       "  </thead>\n",
       "  <tbody>\n",
       "    <tr>\n",
       "      <th>2020-01-02</th>\n",
       "      <td>24.477856</td>\n",
       "      <td>48.890053</td>\n",
       "      <td>37.268757</td>\n",
       "      <td>56.536739</td>\n",
       "    </tr>\n",
       "    <tr>\n",
       "      <th>2020-01-03</th>\n",
       "      <td>24.208868</td>\n",
       "      <td>48.531845</td>\n",
       "      <td>37.175320</td>\n",
       "      <td>56.287003</td>\n",
       "    </tr>\n",
       "    <tr>\n",
       "      <th>2020-01-06</th>\n",
       "      <td>24.368267</td>\n",
       "      <td>48.909416</td>\n",
       "      <td>37.220562</td>\n",
       "      <td>56.930557</td>\n",
       "    </tr>\n",
       "    <tr>\n",
       "      <th>2020-01-07</th>\n",
       "      <td>24.587444</td>\n",
       "      <td>49.509647</td>\n",
       "      <td>37.679886</td>\n",
       "      <td>57.689377</td>\n",
       "    </tr>\n",
       "    <tr>\n",
       "      <th>2020-01-08</th>\n",
       "      <td>24.786692</td>\n",
       "      <td>50.622986</td>\n",
       "      <td>38.230671</td>\n",
       "      <td>58.582668</td>\n",
       "    </tr>\n",
       "    <tr>\n",
       "      <th>...</th>\n",
       "      <td>...</td>\n",
       "      <td>...</td>\n",
       "      <td>...</td>\n",
       "      <td>...</td>\n",
       "    </tr>\n",
       "    <tr>\n",
       "      <th>2023-12-22</th>\n",
       "      <td>27.680000</td>\n",
       "      <td>53.009998</td>\n",
       "      <td>57.840000</td>\n",
       "      <td>76.470001</td>\n",
       "    </tr>\n",
       "    <tr>\n",
       "      <th>2023-12-26</th>\n",
       "      <td>27.830000</td>\n",
       "      <td>53.790001</td>\n",
       "      <td>58.820000</td>\n",
       "      <td>77.199997</td>\n",
       "    </tr>\n",
       "    <tr>\n",
       "      <th>2023-12-27</th>\n",
       "      <td>28.340000</td>\n",
       "      <td>54.259998</td>\n",
       "      <td>58.840000</td>\n",
       "      <td>78.290001</td>\n",
       "    </tr>\n",
       "    <tr>\n",
       "      <th>2023-12-28</th>\n",
       "      <td>28.309999</td>\n",
       "      <td>54.139999</td>\n",
       "      <td>58.570000</td>\n",
       "      <td>78.000000</td>\n",
       "    </tr>\n",
       "    <tr>\n",
       "      <th>2023-12-29</th>\n",
       "      <td>27.580000</td>\n",
       "      <td>52.369999</td>\n",
       "      <td>57.700001</td>\n",
       "      <td>75.900002</td>\n",
       "    </tr>\n",
       "  </tbody>\n",
       "</table>\n",
       "<p>1006 rows × 4 columns</p>\n",
       "</div>"
      ],
      "text/plain": [
       "                ARKF      ARKK      ARKQ      ARKW\n",
       "Date                                              \n",
       "2020-01-02 24.477856 48.890053 37.268757 56.536739\n",
       "2020-01-03 24.208868 48.531845 37.175320 56.287003\n",
       "2020-01-06 24.368267 48.909416 37.220562 56.930557\n",
       "2020-01-07 24.587444 49.509647 37.679886 57.689377\n",
       "2020-01-08 24.786692 50.622986 38.230671 58.582668\n",
       "...              ...       ...       ...       ...\n",
       "2023-12-22 27.680000 53.009998 57.840000 76.470001\n",
       "2023-12-26 27.830000 53.790001 58.820000 77.199997\n",
       "2023-12-27 28.340000 54.259998 58.840000 78.290001\n",
       "2023-12-28 28.309999 54.139999 58.570000 78.000000\n",
       "2023-12-29 27.580000 52.369999 57.700001 75.900002\n",
       "\n",
       "[1006 rows x 4 columns]"
      ]
     },
     "execution_count": 130,
     "metadata": {},
     "output_type": "execute_result"
    }
   ],
   "source": [
    "prices"
   ]
  },
  {
   "cell_type": "code",
   "execution_count": 131,
   "id": "5322c03c-9b73-43af-9a35-7e5bdf076dc0",
   "metadata": {
    "tags": []
   },
   "outputs": [],
   "source": [
    "volumes = pd.DataFrame(data={ticker:get_volume(ticker) for ticker in tickers})"
   ]
  },
  {
   "cell_type": "code",
   "execution_count": 132,
   "id": "8e72d9e7-ed1f-4ee6-805b-c08d44917abd",
   "metadata": {
    "tags": []
   },
   "outputs": [
    {
     "data": {
      "text/html": [
       "<div>\n",
       "<style scoped>\n",
       "    .dataframe tbody tr th:only-of-type {\n",
       "        vertical-align: middle;\n",
       "    }\n",
       "\n",
       "    .dataframe tbody tr th {\n",
       "        vertical-align: top;\n",
       "    }\n",
       "\n",
       "    .dataframe thead th {\n",
       "        text-align: right;\n",
       "    }\n",
       "</style>\n",
       "<table border=\"1\" class=\"dataframe\">\n",
       "  <thead>\n",
       "    <tr style=\"text-align: right;\">\n",
       "      <th></th>\n",
       "      <th>ARKF</th>\n",
       "      <th>ARKK</th>\n",
       "      <th>ARKQ</th>\n",
       "      <th>ARKW</th>\n",
       "    </tr>\n",
       "    <tr>\n",
       "      <th>Date</th>\n",
       "      <th></th>\n",
       "      <th></th>\n",
       "      <th></th>\n",
       "      <th></th>\n",
       "    </tr>\n",
       "  </thead>\n",
       "  <tbody>\n",
       "    <tr>\n",
       "      <th>2020-01-02</th>\n",
       "      <td>13300</td>\n",
       "      <td>248400</td>\n",
       "      <td>18100</td>\n",
       "      <td>763200</td>\n",
       "    </tr>\n",
       "    <tr>\n",
       "      <th>2020-01-03</th>\n",
       "      <td>21900</td>\n",
       "      <td>264100</td>\n",
       "      <td>28300</td>\n",
       "      <td>522900</td>\n",
       "    </tr>\n",
       "    <tr>\n",
       "      <th>2020-01-06</th>\n",
       "      <td>16900</td>\n",
       "      <td>297000</td>\n",
       "      <td>27400</td>\n",
       "      <td>207800</td>\n",
       "    </tr>\n",
       "    <tr>\n",
       "      <th>2020-01-07</th>\n",
       "      <td>25300</td>\n",
       "      <td>230000</td>\n",
       "      <td>23800</td>\n",
       "      <td>121300</td>\n",
       "    </tr>\n",
       "    <tr>\n",
       "      <th>2020-01-08</th>\n",
       "      <td>25000</td>\n",
       "      <td>378800</td>\n",
       "      <td>43900</td>\n",
       "      <td>95000</td>\n",
       "    </tr>\n",
       "    <tr>\n",
       "      <th>...</th>\n",
       "      <td>...</td>\n",
       "      <td>...</td>\n",
       "      <td>...</td>\n",
       "      <td>...</td>\n",
       "    </tr>\n",
       "    <tr>\n",
       "      <th>2023-12-22</th>\n",
       "      <td>685700</td>\n",
       "      <td>15298600</td>\n",
       "      <td>102200</td>\n",
       "      <td>272400</td>\n",
       "    </tr>\n",
       "    <tr>\n",
       "      <th>2023-12-26</th>\n",
       "      <td>673100</td>\n",
       "      <td>13212000</td>\n",
       "      <td>102900</td>\n",
       "      <td>210000</td>\n",
       "    </tr>\n",
       "    <tr>\n",
       "      <th>2023-12-27</th>\n",
       "      <td>772700</td>\n",
       "      <td>13797900</td>\n",
       "      <td>107500</td>\n",
       "      <td>241100</td>\n",
       "    </tr>\n",
       "    <tr>\n",
       "      <th>2023-12-28</th>\n",
       "      <td>719500</td>\n",
       "      <td>11828200</td>\n",
       "      <td>108500</td>\n",
       "      <td>357500</td>\n",
       "    </tr>\n",
       "    <tr>\n",
       "      <th>2023-12-29</th>\n",
       "      <td>638800</td>\n",
       "      <td>18752800</td>\n",
       "      <td>97300</td>\n",
       "      <td>378900</td>\n",
       "    </tr>\n",
       "  </tbody>\n",
       "</table>\n",
       "<p>1006 rows × 4 columns</p>\n",
       "</div>"
      ],
      "text/plain": [
       "              ARKF      ARKK    ARKQ    ARKW\n",
       "Date                                        \n",
       "2020-01-02   13300    248400   18100  763200\n",
       "2020-01-03   21900    264100   28300  522900\n",
       "2020-01-06   16900    297000   27400  207800\n",
       "2020-01-07   25300    230000   23800  121300\n",
       "2020-01-08   25000    378800   43900   95000\n",
       "...            ...       ...     ...     ...\n",
       "2023-12-22  685700  15298600  102200  272400\n",
       "2023-12-26  673100  13212000  102900  210000\n",
       "2023-12-27  772700  13797900  107500  241100\n",
       "2023-12-28  719500  11828200  108500  357500\n",
       "2023-12-29  638800  18752800   97300  378900\n",
       "\n",
       "[1006 rows x 4 columns]"
      ]
     },
     "execution_count": 132,
     "metadata": {},
     "output_type": "execute_result"
    }
   ],
   "source": [
    "volumes"
   ]
  },
  {
   "cell_type": "markdown",
   "id": "9569cabc-1a35-45b3-9a46-4daa4c30c1f1",
   "metadata": {},
   "source": [
    "Wealth metric will show how $1000 grows over time"
   ]
  },
  {
   "cell_type": "code",
   "execution_count": 171,
   "id": "bd6afca7-a740-45dd-89cf-830f2dc0882b",
   "metadata": {
    "tags": []
   },
   "outputs": [],
   "source": [
    "wealth = 1000 * (1+returns).cumprod()"
   ]
  },
  {
   "cell_type": "code",
   "execution_count": 139,
   "id": "23e954e8-ce72-4675-8003-e68e771ee9ba",
   "metadata": {
    "tags": []
   },
   "outputs": [],
   "source": [
    "returns.to_csv('./returns.csv')\n",
    "prices.to_csv('./prices.csv')\n",
    "wealth.to_csv('./wealth.csv')\n",
    "volumes.to_csv('./volumes.csv')"
   ]
  }
 ],
 "metadata": {
  "kernelspec": {
   "display_name": "Python 3 (ipykernel)",
   "language": "python",
   "name": "python3"
  },
  "language_info": {
   "codemirror_mode": {
    "name": "ipython",
    "version": 3
   },
   "file_extension": ".py",
   "mimetype": "text/x-python",
   "name": "python",
   "nbconvert_exporter": "python",
   "pygments_lexer": "ipython3",
   "version": "3.11.5"
  }
 },
 "nbformat": 4,
 "nbformat_minor": 5
}
